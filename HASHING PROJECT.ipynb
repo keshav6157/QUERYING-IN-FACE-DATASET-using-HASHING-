{
 "cells": [
  {
   "cell_type": "code",
   "execution_count": 3,
   "id": "charged-stevens",
   "metadata": {},
   "outputs": [],
   "source": [
    "import os\n",
    "import numpy as np\n",
    "import pandas as pd\n",
    "import matplotlib.pyplot as plt\n",
    "import matplotlib.image as mpimg\n",
    "from sklearn.datasets import load_sample_images"
   ]
  },
  {
   "cell_type": "code",
   "execution_count": null,
   "id": "portuguese-implement",
   "metadata": {},
   "outputs": [],
   "source": [
    "images = load_sample_images() "
   ]
  },
  {
   "cell_type": "code",
   "execution_count": null,
   "id": "offensive-pierce",
   "metadata": {},
   "outputs": [],
   "source": [
    "img_vec = []\n",
    "for image in images:\n",
    "    row, col = image.shape\n",
    "    img_vec = image.reshape(row*col)\n",
    "    img_vec_norm = img_vec/(np.linalg.norm(img_vec))\n",
    "    imgs_vec.append(img_vec_norm)\n",
    "print(len(imgs_vec))\n",
    "print(row*col)\n",
    "print(img_vec.shape)"
   ]
  },
  {
   "cell_type": "code",
   "execution_count": null,
   "id": "funded-funeral",
   "metadata": {},
   "outputs": [],
   "source": [
    "# LOCALITY SENSITIVE HASHING\n",
    "def genRandomHashVec(m, length):\n",
    "    hash_vec = []\n",
    "    for i in range(m):\n",
    "        v = np.random.uniform(-1, 1, length)\n",
    "        v_ = v/(np.linalg.norm(v))\n",
    "        hash_vec.append(v_)\n",
    "    return hash_vec"
   ]
  },
  {
   "cell_type": "code",
   "execution_count": null,
   "id": "moderate-drive",
   "metadata": {},
   "outputs": [],
   "source": [
    "# Function for LSH\n",
    "def LSH(hash_vec, data_pt):\n",
    "    hash_code = []\n",
    "    for i in range(len(hash_vec)):\n",
    "        if np.dot(data_pt, hash_vec[i])>0:\n",
    "            hash_code.append('1')\n",
    "        else:\n",
    "            hash_code.append('0')\n",
    "    return hash_code"
   ]
  },
  {
   "cell_type": "code",
   "execution_count": null,
   "id": "tutorial-cooling",
   "metadata": {},
   "outputs": [],
   "source": [
    "hash_vector = genRandomHashVec(10, len(imgs_vec[0]))\n",
    "print(len(hash_vector))"
   ]
  },
  {
   "cell_type": "code",
   "execution_count": null,
   "id": "technical-heritage",
   "metadata": {},
   "outputs": [],
   "source": [
    "# Test the LSH function\n",
    "LSH(hash_vector, imgs_vec[0])"
   ]
  },
  {
   "cell_type": "code",
   "execution_count": null,
   "id": "emotional-preserve",
   "metadata": {},
   "outputs": [],
   "source": [
    "# Image dictionary using hash as keys\n",
    "image_dict = {}\n",
    "for i in range(len(imgs_vec):\n",
    "               hash_code = LSH(hash_vector, imgs_vec[i])\n",
    "               str_hash_code = ''.join(hash_code)\n",
    "               if str_hash_code not in image_dict.keys():\n",
    "                   image_dict[str_hash_code] = [i]\n",
    "               else:\n",
    "                   image_dict[str_hash_code].append(i)\n",
    "               "
   ]
  },
  {
   "cell_type": "code",
   "execution_count": null,
   "id": "intermediate-richards",
   "metadata": {},
   "outputs": [],
   "source": [
    "# Displaying the hashes\n",
    "cols_names = ['Hash_codes', 'Image_Index']\n",
    "df = pd.DataFrame(image_dict.items(), columns = cols_names)\n",
    "df.head(20)"
   ]
  },
  {
   "cell_type": "code",
   "execution_count": null,
   "id": "stretch-consultation",
   "metadata": {},
   "outputs": [],
   "source": [
    "# getting the keys and values of dictionary\n",
    "keys = list(image_dict.keys())\n",
    "values = list(image_dict.values())"
   ]
  },
  {
   "cell_type": "code",
   "execution_count": null,
   "id": "narrow-concrete",
   "metadata": {},
   "outputs": [],
   "source": [
    "# Plotting the images with same hash code\n",
    "igs = [images[i] for i in range(len(images)) i in values[2]]\n",
    "fig = plt.figure()\n",
    "cols = 2\n",
    "n_images = len(igs)\n",
    "for n, image in zip(range(n_images), igs):\n",
    "    ax = fig.add_subplot(cols, np.ceil(n_images/float(cols)), n+1)\n",
    "    plt.gray()\n",
    "    plt.imshow(image)\n",
    "fig.set_size_inches(np.array(fig.get_size_inches())*n_images)\n",
    "plt.show()"
   ]
  }
 ],
 "metadata": {
  "kernelspec": {
   "display_name": "Python 3",
   "language": "python",
   "name": "python3"
  },
  "language_info": {
   "codemirror_mode": {
    "name": "ipython",
    "version": 3
   },
   "file_extension": ".py",
   "mimetype": "text/x-python",
   "name": "python",
   "nbconvert_exporter": "python",
   "pygments_lexer": "ipython3",
   "version": "3.7.4"
  }
 },
 "nbformat": 4,
 "nbformat_minor": 5
}
